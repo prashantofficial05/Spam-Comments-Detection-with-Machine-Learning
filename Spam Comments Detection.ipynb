{
 "cells": [
  {
   "cell_type": "code",
   "execution_count": 3,
   "id": "83b1f07c",
   "metadata": {},
   "outputs": [],
   "source": [
    "import pandas as pd\n",
    "import numpy as np\n",
    "from sklearn.feature_extraction.text import CountVectorizer\n",
    "from sklearn.model_selection import train_test_split\n",
    "from sklearn.naive_bayes import BernoulliNB"
   ]
  },
  {
   "cell_type": "code",
   "execution_count": 4,
   "id": "4713677d",
   "metadata": {},
   "outputs": [
    {
     "name": "stdout",
     "output_type": "stream",
     "text": [
      "                                COMMENT_ID          AUTHOR  \\\n",
      "275    z12ttjopmofst1gpp04cc5ezywjrwntjrc0         x Judda   \n",
      "280  z12ivx14lye5szr4k04cddnhuujytfhz4v00k  The Silhouette   \n",
      "139    z13nwn54ukukyhdfb223vttqnu31hvf4k04  nachopinca3901   \n",
      "49     z13nvr2xayrwffsio04cj3zwyuf3vb1imdg    Milan George   \n",
      "203      z13cc1abmqz5cjpkc223ybzavyibznjey             전광용   \n",
      "\n",
      "                    DATE                                            CONTENT  \\\n",
      "275  2014-11-08T07:19:29        We get it, you came here for the views... ﻿   \n",
      "280  2014-11-08T09:25:51  Most viewed video on youtube...daaaaaaaaaaannn...   \n",
      "139  2014-11-05T21:14:36  Stupid people... this video doesnt have 2 bill...   \n",
      "49   2014-01-20T16:15:09  thumbs up if u checked this video to see hw vi...   \n",
      "203  2014-11-07T15:14:48                                        Fantastic!﻿   \n",
      "\n",
      "     CLASS  \n",
      "275      0  \n",
      "280      0  \n",
      "139      0  \n",
      "49       0  \n",
      "203      0  \n"
     ]
    }
   ],
   "source": [
    "data = pd.read_csv(\"Youtube01-Psy.csv\")\n",
    "print(data.sample(5))"
   ]
  },
  {
   "cell_type": "code",
   "execution_count": 5,
   "id": "088dd304",
   "metadata": {},
   "outputs": [
    {
     "name": "stdout",
     "output_type": "stream",
     "text": [
      "                                               CONTENT  CLASS\n",
      "173                    http://www.gofundme.com/gvr7xg﻿      1\n",
      "248  Why the fuck this keeps updated? Comments :\"5 ...      0\n",
      "146            Get free gift cards and pay pal money!﻿      1\n",
      "179                            Please subscribe to me﻿      1\n",
      "290                          2 billion for this shit?﻿      0\n"
     ]
    }
   ],
   "source": [
    "data = data[[\"CONTENT\",\"CLASS\"]]\n",
    "print(data.sample(5))"
   ]
  },
  {
   "cell_type": "code",
   "execution_count": 6,
   "id": "ddc65fa6",
   "metadata": {},
   "outputs": [
    {
     "name": "stdout",
     "output_type": "stream",
     "text": [
      "                                               CONTENT         CLASS\n",
      "344  everyones back lool this is almost 3 years old...      Not Spam\n",
      "339  http://www.bing.com/explore/rewards?PUBL=REFER...  Spam Comment\n",
      "64         the most viewed youtube video of all time?﻿      Not Spam\n",
      "69               It's been back for quite a while now.      Not Spam\n",
      "266                                 PSY is a good guy﻿      Not Spam\n"
     ]
    }
   ],
   "source": [
    "data[\"CLASS\"] = data[\"CLASS\"].map({0: \"Not Spam\",\n",
    "                                  1: \"Spam Comment\"})\n",
    "print(data.sample(5))"
   ]
  },
  {
   "cell_type": "markdown",
   "id": "300e84f5",
   "metadata": {},
   "source": [
    "# Training a Classification Model"
   ]
  },
  {
   "cell_type": "code",
   "execution_count": 7,
   "id": "0238614b",
   "metadata": {},
   "outputs": [
    {
     "name": "stdout",
     "output_type": "stream",
     "text": [
      "0.9857142857142858\n"
     ]
    }
   ],
   "source": [
    "x =np.array(data[\"CONTENT\"])\n",
    "y =np.array(data[\"CLASS\"])\n",
    "\n",
    "cv = CountVectorizer()\n",
    "x = cv.fit_transform(x)\n",
    "xtrain, xtest, ytrain, ytest = train_test_split(x,y, \n",
    "                                               test_size=0.2,\n",
    "                                               random_state=42)\n",
    "\n",
    "\n",
    "model = BernoulliNB()\n",
    "model.fit(xtrain, ytrain)\n",
    "print(model.score(xtest, ytest))"
   ]
  },
  {
   "cell_type": "markdown",
   "id": "accf7155",
   "metadata": {},
   "source": [
    "Now let’s test the model by giving spam and not spam comments as input"
   ]
  },
  {
   "cell_type": "code",
   "execution_count": 8,
   "id": "3d9ad421",
   "metadata": {},
   "outputs": [
    {
     "name": "stdout",
     "output_type": "stream",
     "text": [
      "['Spam Comment']\n"
     ]
    }
   ],
   "source": [
    "sample =\"check this out:https://thecleverprogrammer.com/\"\n",
    "data = cv.transform([sample]).toarray()\n",
    "print(model.predict(data))"
   ]
  },
  {
   "cell_type": "code",
   "execution_count": 9,
   "id": "95cedfbb",
   "metadata": {},
   "outputs": [
    {
     "name": "stdout",
     "output_type": "stream",
     "text": [
      "['Not Spam']\n"
     ]
    }
   ],
   "source": [
    "sample = \"Lack of information!\"\n",
    "data = cv.transform([sample]).toarray()\n",
    "print(model.predict(data))"
   ]
  },
  {
   "cell_type": "markdown",
   "id": "7c4bfb46",
   "metadata": {},
   "source": [
    "o this is how you can train a Machine Learning model for the task of spam detection using Python."
   ]
  },
  {
   "cell_type": "markdown",
   "id": "7dba5493",
   "metadata": {},
   "source": [
    "# Summary\n",
    "\n",
    "\n",
    "Spam comments detection means classifying comments as spam or not spam. Spam comments on social media platforms are the type of comments posted to redirect the user to another social media account, website or any piece of content."
   ]
  },
  {
   "cell_type": "code",
   "execution_count": null,
   "id": "e65b78fd",
   "metadata": {},
   "outputs": [],
   "source": []
  }
 ],
 "metadata": {
  "kernelspec": {
   "display_name": "Python 3 (ipykernel)",
   "language": "python",
   "name": "python3"
  },
  "language_info": {
   "codemirror_mode": {
    "name": "ipython",
    "version": 3
   },
   "file_extension": ".py",
   "mimetype": "text/x-python",
   "name": "python",
   "nbconvert_exporter": "python",
   "pygments_lexer": "ipython3",
   "version": "3.9.13"
  }
 },
 "nbformat": 4,
 "nbformat_minor": 5
}
